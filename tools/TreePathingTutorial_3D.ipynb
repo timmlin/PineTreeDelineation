{
 "cells": [
  {
   "cell_type": "code",
   "execution_count": 1,
   "id": "f9c1e852",
   "metadata": {},
   "outputs": [],
   "source": [
    "import numpy as np\n",
    "import matplotlib.pyplot as plt\n",
    "%matplotlib inline\n",
    "import laspy\n",
    "import scipy\n",
    "\n",
    "from ofmp import superpoint_construction as sp\n",
    "from ofmp import superpoint_methods as sm\n",
    "from ofmp import networks as nw"
   ]
  },
  {
   "cell_type": "code",
   "execution_count": 2,
   "id": "184e8258",
   "metadata": {},
   "outputs": [],
   "source": [
    "# User Parameters\n",
    "s = 0.3    # Voxel grid size\n",
    "g_max = 1  # maximum ground height after flattening\n",
    "c_min = 5  # shortest tree to detect\n",
    "d = 0.7      # Merge radius\n",
    "k = 30      # number of connections between nodes"
   ]
  },
  {
   "cell_type": "code",
   "execution_count": 3,
   "id": "7983444e",
   "metadata": {},
   "outputs": [],
   "source": [
    "tls = laspy.read('4D_7_2_03b_trans2.las')\n",
    "pts = np.column_stack((tls.x, tls.y, tls.z))\n",
    "\n",
    "# Open 3DEP Just for ground\n",
    "grnd     = laspy.read('4D_7_2_3DEP_in2018.las')\n",
    "grnd_pts = np.column_stack((grnd.x, grnd.y, grnd.z, grnd.classification))\n",
    "grnd_pts = grnd_pts[grnd_pts[:,3]==2, 0:3] "
   ]
  },
  {
   "cell_type": "code",
   "execution_count": 4,
   "id": "4935f453",
   "metadata": {},
   "outputs": [],
   "source": [
    "# Create the superpoint space design\n",
    "design = sp.SuperpointSpaceDesign()\n",
    "layer1 = design.add_design_layer(layer_name = 'layer1')\n",
    "layer1.add_modifier(sm.modifier_initialize_by_cube, size = s) # voxelizes and sets centers\n",
    "layer1.add_modifier(sm.modifier_center_by_com)                  # moves centers to center of mass\n",
    "layer1.add_modifier(sm.modifier_center_by_nearest)              # snaps center to nearest point\n",
    "\n",
    "# Build the space\n",
    "space_constructor = sp.SuperpointSpaceConstructor(design, pts)\n",
    "space = space_constructor.build_space()"
   ]
  },
  {
   "cell_type": "code",
   "execution_count": 5,
   "id": "e8bb21e1",
   "metadata": {},
   "outputs": [],
   "source": [
    "#build space\n",
    "space_constructor = sp.SuperpointSpaceConstructor(design, pts)\n",
    "space = space_constructor.build_space()\n",
    "network  = nw.create_network_from_superpointspace_knn(space = space, k = k, weight_method = nw.sqr_dist)"
   ]
  },
  {
   "cell_type": "code",
   "execution_count": 6,
   "id": "32b6acd5",
   "metadata": {},
   "outputs": [],
   "source": [
    "# ID ground superpoints and contract network\n",
    "cents    = space.sp_centers\n",
    "KDtree   = scipy.spatial.cKDTree(grnd_pts[:,0:2]) #build KDtree from dtm points\n",
    "dist,ind = KDtree.query(cents[:,0:2], 10) #query tree with lidar points\n",
    "grnd_elv = grnd_pts[ind, 2]\n",
    "grnd_wts = 1/(dist+1)\n",
    "terrain_at_centers = np.sum(grnd_elv*grnd_wts, axis = 1)/np.sum(grnd_wts, axis=1)\n",
    "grnd_keys = np.where((cents[:,2]-terrain_at_centers) < g_max)[0].tolist() # <-----------GROUND HEIGHT\n",
    "nw.contract_nodes_to_node(network, grnd_keys)"
   ]
  },
  {
   "cell_type": "code",
   "execution_count": 7,
   "id": "36cfd4b1",
   "metadata": {},
   "outputs": [],
   "source": [
    "# Calculate shortest Path\n",
    "shortest_tree = nw.pathing_single_source_all_target(network, grnd_keys[0])\n",
    "forest = nw.split_into_trees(shortest_tree, grnd_keys[0])"
   ]
  },
  {
   "cell_type": "code",
   "execution_count": 8,
   "id": "a6e14a84",
   "metadata": {},
   "outputs": [],
   "source": [
    "# Gather points based on networks and filter by height\n",
    "tree_sp_indices = {}\n",
    "for key, tree in forest.items():\n",
    "    indices = list(tree.nodes)\n",
    "    coords = space.sp_centers[indices]\n",
    "    ht_min = min(coords[:,2])\n",
    "    ht_max = max(coords[:,2])\n",
    "    if (ht_max - ht_min) > c_min: #<---- HEIGHT FILTER\n",
    "        trunk_pos = np.mean(coords[(coords[:,2]-ht_min) < c_min], axis=0)\n",
    "        tree_sp_indices[key] = {'pos':trunk_pos, 'sp':indices}"
   ]
  },
  {
   "cell_type": "code",
   "execution_count": 9,
   "id": "97b144eb",
   "metadata": {},
   "outputs": [],
   "source": [
    "unvisited = dict(tree_sp_indices)  # copy so we can safely pop\n",
    "clusters = []\n",
    "\n",
    "while unvisited:\n",
    "    key, data = unvisited.popitem()\n",
    "    cluster_keys = [key]\n",
    "    cluster_sp = list(data['sp'])\n",
    "    cluster_positions = [data['pos']]\n",
    "\n",
    "    keys_to_check = list(unvisited.keys())\n",
    "    for other_key in keys_to_check:\n",
    "        other_pos = unvisited[other_key]['pos']\n",
    "        dist = np.linalg.norm(data['pos'] - other_pos)\n",
    "        if dist < d:\n",
    "            cluster_keys.append(other_key)\n",
    "            cluster_sp.extend(unvisited.pop(other_key)['sp'])\n",
    "            cluster_positions.append(other_pos)\n",
    "\n",
    "    avg_pos = np.mean(cluster_positions, axis=0)\n",
    "    clusters.append({'sp': cluster_sp, 'pos': avg_pos})"
   ]
  },
  {
   "cell_type": "code",
   "execution_count": 10,
   "id": "e706d6fd",
   "metadata": {},
   "outputs": [],
   "source": [
    "tree_number = 1\n",
    "classification = np.zeros(len(pts))\n",
    "for i, cluster in enumerate(clusters):\n",
    "    sp_indices = cluster['sp']\n",
    "    pt_indices = space.get_point_indices(sp_indices)\n",
    "    classification[pt_indices] = tree_number\n",
    "    tree_number += 1"
   ]
  },
  {
   "cell_type": "code",
   "execution_count": 12,
   "id": "fa1d2647",
   "metadata": {},
   "outputs": [],
   "source": [
    "# Write out classified tls data\n",
    "las_out = '4D_7_2_03b_trans2_classed.las' \n",
    "outfile = laspy.LasData(header = tls.header)\n",
    "outfile.add_extra_dim(laspy.ExtraBytesParams(\n",
    "    name=\"tree_number\",\n",
    "    type=np.uint64,\n",
    "    description=\"tree_number\"\n",
    "))\n",
    "outfile.x     = pts[:,0]\n",
    "outfile.y     = pts[:,1]\n",
    "outfile.z     = pts[:,2]\n",
    "outfile.tree_number = classification\n",
    "outfile.write(las_out)"
   ]
  },
  {
   "cell_type": "code",
   "execution_count": null,
   "id": "f9454f0f",
   "metadata": {},
   "outputs": [],
   "source": []
  }
 ],
 "metadata": {
  "kernelspec": {
   "display_name": "2023STD",
   "language": "python",
   "name": "2023std"
  },
  "language_info": {
   "codemirror_mode": {
    "name": "ipython",
    "version": 3
   },
   "file_extension": ".py",
   "mimetype": "text/x-python",
   "name": "python",
   "nbconvert_exporter": "python",
   "pygments_lexer": "ipython3",
   "version": "3.10.13"
  }
 },
 "nbformat": 4,
 "nbformat_minor": 5
}
